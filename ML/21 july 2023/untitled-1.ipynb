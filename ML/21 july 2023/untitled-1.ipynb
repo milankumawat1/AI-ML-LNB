{
 "cells": [
  {
   "cell_type": "code",
   "execution_count": null,
   "metadata": {},
   "outputs": [],
   "source": []
  },
  {
   "cell_type": "markdown",
   "metadata": {},
   "source": [
    "How to determine which algorithm is best for particular situation with using it?\n",
    "\n",
    "supervised algo:\n",
    "\n",
    "it learn from labeled dataset\n",
    "mapping the input and out and allow algo to predict on unseen data\n",
    "\n",
    "Linear Regression:\n",
    "when target variable is continous\n",
    "Ex: Salary prediction , house rent prediction\n",
    "\n",
    "Logistic Regression:\n",
    "Binary classification where the out is one of two classes(fail or pass , select or reject , yes or no)\n",
    "\n",
    "Decision tree:\n",
    "Classification and Regression:\n",
    "example: identifying the species of flowers based on the petals and sepal measurement\n",
    "\n",
    "Random Forest:\n",
    "Classification and regression but especially for complex dataset\n",
    "    example: Prediction costumer churn\n",
    "Support vector machine:0\n",
    "classification and regression but for small to medium size dataset\n",
    "\n",
    "classification of image as either dog or cat"
   ]
  }
 ],
 "metadata": {
  "language_info": {
   "name": "python"
  },
  "orig_nbformat": 4
 },
 "nbformat": 4,
 "nbformat_minor": 2
}
